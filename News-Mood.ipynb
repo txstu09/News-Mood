{
 "cells": [
  {
   "cell_type": "code",
   "execution_count": 31,
   "metadata": {
    "collapsed": true
   },
   "outputs": [],
   "source": [
    "import json\n",
    "import numpy as np\n",
    "import pandas as pd\n",
    "import matplotlib.pyplot as plt\n",
    "import tweepy\n",
    "from config import *"
   ]
  },
  {
   "cell_type": "code",
   "execution_count": 32,
   "metadata": {
    "collapsed": true
   },
   "outputs": [],
   "source": [
    "auth = tweepy.OAuthHandler(consumer_key, consumer_secret)\n",
    "auth.set_access_token(access_token, access_token_secret)\n",
    "api = tweepy.API(auth, parser=tweepy.parsers.JSONParser())"
   ]
  },
  {
   "cell_type": "code",
   "execution_count": 23,
   "metadata": {
    "collapsed": true
   },
   "outputs": [],
   "source": [
    "from vaderSentiment.vaderSentiment import SentimentIntensityAnalyzer\n",
    "analyzer = SentimentIntensityAnalyzer()"
   ]
  },
  {
   "cell_type": "code",
   "execution_count": 7,
   "metadata": {
    "collapsed": true
   },
   "outputs": [],
   "source": [
    "# Twitter handles\n",
    "\n",
    "# @BBCNorthAmerica\n",
    "# @CBSNews\n",
    "# @CNN\n",
    "# @FoxNews\n",
    "# @nytimes"
   ]
  },
  {
   "cell_type": "code",
   "execution_count": 46,
   "metadata": {},
   "outputs": [],
   "source": [
    "# Define function to obtain tweets\n",
    "\n",
    "#NOTE: Change range to 5\n",
    "\n",
    "def tweeter(handle):\n",
    "\n",
    "    all_tweets = []\n",
    "    \n",
    "    for x in range(2):\n",
    "        public_tweets = api.user_timeline(handle, page=x)\n",
    "        all_tweets.append(public_tweets)\n",
    "        tweet_list = [item for sublist in all_tweets for item in sublist]\n",
    "    return tweet_list;"
   ]
  },
  {
   "cell_type": "code",
   "execution_count": 47,
   "metadata": {
    "collapsed": true
   },
   "outputs": [],
   "source": [
    "# Define function to analyze tweets\n",
    "\n",
    "def vader(tweet):\n",
    "    \n",
    "    target_string = tweet['text']\n",
    "    compound_score = analyzer.polarity_scores(target_string)['compound']\n",
    "    return compound_score;"
   ]
  },
  {
   "cell_type": "code",
   "execution_count": 43,
   "metadata": {},
   "outputs": [
    {
     "name": "stdout",
     "output_type": "stream",
     "text": [
      "Done!\n"
     ]
    }
   ],
   "source": [
    "target = '@CNN'\n",
    "with open('test_data.json', 'w') as outfile:  \n",
    "    json.dump(tweeter(target), outfile)\n",
    "print('Done!')"
   ]
  },
  {
   "cell_type": "code",
   "execution_count": 51,
   "metadata": {},
   "outputs": [
    {
     "name": "stdout",
     "output_type": "stream",
     "text": [
      "896\n"
     ]
    }
   ],
   "source": [
    "status = api.rate_limit_status()\n",
    "#print(json.dumps(status, sort_keys=True, indent=4))\n",
    "print(status['resources']['statuses']['/statuses/user_timeline']['remaining'])"
   ]
  },
  {
   "cell_type": "code",
   "execution_count": 52,
   "metadata": {},
   "outputs": [
    {
     "name": "stdout",
     "output_type": "stream",
     "text": [
      "[{'time': 'Mon Nov 27 06:53:08 +0000 2017', 'score': 0.0}, {'time': 'Mon Nov 27 06:37:04 +0000 2017', 'score': 0.0258}, {'time': 'Mon Nov 27 06:22:24 +0000 2017', 'score': -0.4767}, {'time': 'Mon Nov 27 06:09:45 +0000 2017', 'score': -0.128}, {'time': 'Mon Nov 27 05:50:34 +0000 2017', 'score': -0.6908}, {'time': 'Mon Nov 27 05:32:34 +0000 2017', 'score': 0.296}, {'time': 'Mon Nov 27 05:17:39 +0000 2017', 'score': 0.0}, {'time': 'Mon Nov 27 05:00:20 +0000 2017', 'score': -0.1027}, {'time': 'Mon Nov 27 04:32:11 +0000 2017', 'score': -0.296}, {'time': 'Mon Nov 27 04:13:11 +0000 2017', 'score': 0.0}, {'time': 'Mon Nov 27 03:58:56 +0000 2017', 'score': -0.6124}, {'time': 'Mon Nov 27 03:44:43 +0000 2017', 'score': -0.3182}, {'time': 'Mon Nov 27 03:28:10 +0000 2017', 'score': 0.6369}, {'time': 'Mon Nov 27 03:08:08 +0000 2017', 'score': 0.3252}, {'time': 'Mon Nov 27 02:49:12 +0000 2017', 'score': 0.0}, {'time': 'Mon Nov 27 02:34:25 +0000 2017', 'score': -0.3818}, {'time': 'Mon Nov 27 02:27:21 +0000 2017', 'score': -0.2732}, {'time': 'Mon Nov 27 02:07:49 +0000 2017', 'score': 0.1531}, {'time': 'Mon Nov 27 01:50:49 +0000 2017', 'score': 0.6369}, {'time': 'Mon Nov 27 01:33:39 +0000 2017', 'score': 0.0}, {'time': 'Mon Nov 27 06:53:08 +0000 2017', 'score': 0.0}, {'time': 'Mon Nov 27 06:37:04 +0000 2017', 'score': 0.0258}, {'time': 'Mon Nov 27 06:22:24 +0000 2017', 'score': -0.4767}, {'time': 'Mon Nov 27 06:09:45 +0000 2017', 'score': -0.128}, {'time': 'Mon Nov 27 05:50:34 +0000 2017', 'score': -0.6908}, {'time': 'Mon Nov 27 05:32:34 +0000 2017', 'score': 0.296}, {'time': 'Mon Nov 27 05:17:39 +0000 2017', 'score': 0.0}, {'time': 'Mon Nov 27 05:00:20 +0000 2017', 'score': -0.1027}, {'time': 'Mon Nov 27 04:32:11 +0000 2017', 'score': -0.296}, {'time': 'Mon Nov 27 04:13:11 +0000 2017', 'score': 0.0}, {'time': 'Mon Nov 27 03:58:56 +0000 2017', 'score': -0.6124}, {'time': 'Mon Nov 27 03:44:43 +0000 2017', 'score': -0.3182}, {'time': 'Mon Nov 27 03:28:10 +0000 2017', 'score': 0.6369}, {'time': 'Mon Nov 27 03:08:08 +0000 2017', 'score': 0.3252}, {'time': 'Mon Nov 27 02:49:12 +0000 2017', 'score': 0.0}, {'time': 'Mon Nov 27 02:34:25 +0000 2017', 'score': -0.3818}, {'time': 'Mon Nov 27 02:27:21 +0000 2017', 'score': -0.2732}, {'time': 'Mon Nov 27 02:07:49 +0000 2017', 'score': 0.1531}, {'time': 'Mon Nov 27 01:50:49 +0000 2017', 'score': 0.6369}, {'time': 'Mon Nov 27 01:33:39 +0000 2017', 'score': 0.0}]\n"
     ]
    }
   ],
   "source": [
    "# Analyze tweets\n",
    "target = '@nytimes'\n",
    "\n",
    "info = []\n",
    "\n",
    "for item in tweeter(target):\n",
    "    tweet = {}\n",
    "    \n",
    "    tweet['time'] = item['created_at']\n",
    "    tweet['score'] = vader(item)\n",
    "    info.append(tweet)\n",
    "    \n",
    "print(info)"
   ]
  },
  {
   "cell_type": "code",
   "execution_count": null,
   "metadata": {
    "collapsed": true
   },
   "outputs": [],
   "source": []
  }
 ],
 "metadata": {
  "kernelspec": {
   "display_name": "Python 3",
   "language": "python",
   "name": "python3"
  },
  "language_info": {
   "codemirror_mode": {
    "name": "ipython",
    "version": 3
   },
   "file_extension": ".py",
   "mimetype": "text/x-python",
   "name": "python",
   "nbconvert_exporter": "python",
   "pygments_lexer": "ipython3",
   "version": "3.6.2"
  }
 },
 "nbformat": 4,
 "nbformat_minor": 2
}
