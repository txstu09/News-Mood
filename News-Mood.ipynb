{
 "cells": [
  {
   "cell_type": "code",
   "execution_count": 1,
   "metadata": {
    "collapsed": true
   },
   "outputs": [],
   "source": [
    "import json\n",
    "import numpy as np\n",
    "import pandas as pd\n",
    "import matplotlib.pyplot as plt\n",
    "import tweepy\n",
    "from config import *"
   ]
  },
  {
   "cell_type": "code",
   "execution_count": 2,
   "metadata": {
    "collapsed": true
   },
   "outputs": [],
   "source": [
    "auth = tweepy.OAuthHandler(consumer_key, consumer_secret)\n",
    "auth.set_access_token(access_token, access_token_secret)\n",
    "api = tweepy.API(auth, parser=tweepy.parsers.JSONParser())"
   ]
  },
  {
   "cell_type": "code",
   "execution_count": 3,
   "metadata": {
    "collapsed": true
   },
   "outputs": [],
   "source": [
    "from vaderSentiment.vaderSentiment import SentimentIntensityAnalyzer\n",
    "analyzer = SentimentIntensityAnalyzer()"
   ]
  },
  {
   "cell_type": "code",
   "execution_count": 6,
   "metadata": {
    "collapsed": true
   },
   "outputs": [],
   "source": [
    "# Define function to obtain tweets\n",
    "\n",
    "def tweeter(handle):\n",
    "\n",
    "    all_tweets = []\n",
    "    \n",
    "    for x in range(5):\n",
    "        public_tweets = api.user_timeline(handle, page=x)\n",
    "        all_tweets.append(public_tweets)\n",
    "        tweet_list = [item for sublist in all_tweets for item in sublist]\n",
    "    return tweet_list;"
   ]
  },
  {
   "cell_type": "code",
   "execution_count": 4,
   "metadata": {
    "collapsed": true
   },
   "outputs": [],
   "source": [
    "# Define function to analyze tweets\n",
    "\n",
    "def vader(tweet):\n",
    "    \n",
    "    target_string = tweet['text']\n",
    "    compound_score = analyzer.polarity_scores(target_string)['compound']\n",
    "    return compound_score;"
   ]
  },
  {
   "cell_type": "code",
   "execution_count": 5,
   "metadata": {},
   "outputs": [
    {
     "name": "stdout",
     "output_type": "stream",
     "text": [
      "900\n"
     ]
    }
   ],
   "source": [
    "#Check rate limit status\n",
    "\n",
    "status = api.rate_limit_status()\n",
    "print(status['resources']['statuses']['/statuses/user_timeline']['remaining'])"
   ]
  },
  {
   "cell_type": "code",
   "execution_count": 7,
   "metadata": {
    "collapsed": true
   },
   "outputs": [],
   "source": [
    "# WORKING Analyze tweets\n",
    "targets = ['@nytimes','@CNN','@FoxNews','@CBSNews','@BBCNorthAmerica']\n",
    "\n",
    "news_scores = {}\n",
    "\n",
    "for name in targets:\n",
    "    tweet_sentiment = []\n",
    "    for item in tweeter(name):\n",
    "        tweet = {}\n",
    "\n",
    "        tweet['time'] = item['created_at']\n",
    "        tweet['score'] = vader(item)\n",
    "        tweet_sentiment.append(tweet)\n",
    "    news_scores[name] = tweet_sentiment"
   ]
  },
  {
   "cell_type": "code",
   "execution_count": 25,
   "metadata": {},
   "outputs": [
    {
     "data": {
      "image/png": "[encoded data removed]",
      "text/plain": [
       "<matplotlib.figure.Figure at 0x23413b43ac8>"
      ]
     },
     "metadata": {},
     "output_type": "display_data"
    }
   ],
   "source": [
    "# WORKING\n",
    "\n",
    "#news_scores['@BBCNorthAmerica'][1]['score']\n",
    "\n",
    "for key, value in news_scores.items():\n",
    "    score_list = []\n",
    "    time_list = []\n",
    "    for x in range(len(value)):\n",
    "        score_list.append(news_scores[key][x]['score'])\n",
    "        time_list.append(x)\n",
    "    plt.scatter(time_list, score_list)\n",
    "    plt.gca().invert_xaxis()\n",
    "plt.show()"
   ]
  },
  {
   "cell_type": "code",
   "execution_count": 103,
   "metadata": {
    "collapsed": true
   },
   "outputs": [],
   "source": [
    "# NEW Analyze tweets\n",
    "targets = ['@nytimes','@CNN','@FoxNews','@CBSNews','@BBCNorthAmerica']\n",
    "\n",
    "news_scores = []\n",
    "\n",
    "for name in targets:\n",
    "    tweet_sentiment = {}\n",
    "    counter = 1\n",
    "\n",
    "    for item in tweeter(name):\n",
    "        tweet = {}\n",
    "        \n",
    "        tweet['time'] = item['created_at']\n",
    "        tweet['score'] = vader(item)\n",
    "        tweet_sentiment[counter] = tweet\n",
    "        counter = counter + 1\n",
    "    news_scores.append(tweet_sentiment)"
   ]
  },
  {
   "cell_type": "code",
   "execution_count": 112,
   "metadata": {
    "scrolled": true
   },
   "outputs": [
    {
     "name": "stdout",
     "output_type": "stream",
     "text": [
      "Mon Nov 27 08:22:01 +0000 2017\n",
      "Mon Nov 27 08:07:06 +0000 2017\n",
      "Mon Nov 27 07:52:02 +0000 2017\n",
      "Mon Nov 27 07:47:06 +0000 2017\n",
      "Mon Nov 27 07:32:05 +0000 2017\n",
      "Mon Nov 27 07:08:04 +0000 2017\n",
      "Mon Nov 27 06:53:08 +0000 2017\n",
      "Mon Nov 27 06:37:04 +0000 2017\n",
      "Mon Nov 27 06:22:24 +0000 2017\n",
      "Mon Nov 27 06:09:45 +0000 2017\n",
      "Mon Nov 27 05:50:34 +0000 2017\n",
      "Mon Nov 27 05:32:34 +0000 2017\n",
      "Mon Nov 27 05:17:39 +0000 2017\n",
      "Mon Nov 27 05:00:20 +0000 2017\n",
      "Mon Nov 27 04:32:11 +0000 2017\n",
      "Mon Nov 27 04:13:11 +0000 2017\n",
      "Mon Nov 27 03:58:56 +0000 2017\n",
      "Mon Nov 27 03:44:43 +0000 2017\n",
      "Mon Nov 27 03:28:10 +0000 2017\n",
      "Mon Nov 27 03:08:08 +0000 2017\n",
      "Mon Nov 27 08:22:01 +0000 2017\n",
      "Mon Nov 27 08:07:06 +0000 2017\n",
      "Mon Nov 27 07:52:02 +0000 2017\n",
      "Mon Nov 27 07:47:06 +0000 2017\n",
      "Mon Nov 27 07:32:05 +0000 2017\n",
      "Mon Nov 27 07:08:04 +0000 2017\n",
      "Mon Nov 27 06:53:08 +0000 2017\n",
      "Mon Nov 27 06:37:04 +0000 2017\n",
      "Mon Nov 27 06:22:24 +0000 2017\n",
      "Mon Nov 27 06:09:45 +0000 2017\n",
      "Mon Nov 27 05:50:34 +0000 2017\n",
      "Mon Nov 27 05:32:34 +0000 2017\n",
      "Mon Nov 27 05:17:39 +0000 2017\n",
      "Mon Nov 27 05:00:20 +0000 2017\n",
      "Mon Nov 27 04:32:11 +0000 2017\n",
      "Mon Nov 27 04:13:11 +0000 2017\n",
      "Mon Nov 27 03:58:56 +0000 2017\n",
      "Mon Nov 27 03:44:43 +0000 2017\n",
      "Mon Nov 27 03:28:10 +0000 2017\n",
      "Mon Nov 27 03:08:08 +0000 2017\n",
      "Mon Nov 27 08:15:50 +0000 2017\n",
      "Mon Nov 27 08:08:10 +0000 2017\n",
      "Mon Nov 27 08:00:44 +0000 2017\n",
      "Mon Nov 27 08:00:07 +0000 2017\n",
      "Mon Nov 27 07:52:51 +0000 2017\n",
      "Mon Nov 27 07:45:31 +0000 2017\n",
      "Mon Nov 27 07:38:07 +0000 2017\n",
      "Mon Nov 27 07:30:19 +0000 2017\n",
      "Mon Nov 27 07:17:20 +0000 2017\n",
      "Mon Nov 27 07:10:07 +0000 2017\n",
      "Mon Nov 27 07:00:12 +0000 2017\n",
      "Mon Nov 27 06:52:43 +0000 2017\n",
      "Mon Nov 27 06:45:11 +0000 2017\n",
      "Mon Nov 27 06:37:26 +0000 2017\n",
      "Mon Nov 27 06:30:12 +0000 2017\n",
      "Mon Nov 27 06:18:57 +0000 2017\n",
      "Mon Nov 27 06:08:53 +0000 2017\n",
      "Mon Nov 27 06:00:15 +0000 2017\n",
      "Mon Nov 27 06:00:03 +0000 2017\n",
      "Mon Nov 27 05:47:51 +0000 2017\n",
      "Mon Nov 27 08:15:50 +0000 2017\n",
      "Mon Nov 27 08:08:10 +0000 2017\n",
      "Mon Nov 27 08:00:44 +0000 2017\n",
      "Mon Nov 27 08:00:07 +0000 2017\n",
      "Mon Nov 27 07:52:51 +0000 2017\n",
      "Mon Nov 27 07:45:31 +0000 2017\n",
      "Mon Nov 27 07:38:07 +0000 2017\n",
      "Mon Nov 27 07:30:19 +0000 2017\n",
      "Mon Nov 27 07:17:20 +0000 2017\n",
      "Mon Nov 27 07:10:07 +0000 2017\n",
      "Mon Nov 27 07:00:12 +0000 2017\n",
      "Mon Nov 27 06:52:43 +0000 2017\n",
      "Mon Nov 27 06:45:11 +0000 2017\n",
      "Mon Nov 27 06:37:26 +0000 2017\n",
      "Mon Nov 27 06:30:12 +0000 2017\n",
      "Mon Nov 27 06:18:57 +0000 2017\n",
      "Mon Nov 27 06:08:53 +0000 2017\n",
      "Mon Nov 27 06:00:15 +0000 2017\n",
      "Mon Nov 27 06:00:03 +0000 2017\n",
      "Mon Nov 27 05:47:51 +0000 2017\n",
      "Mon Nov 27 08:24:01 +0000 2017\n",
      "Mon Nov 27 08:20:05 +0000 2017\n",
      "Mon Nov 27 08:04:03 +0000 2017\n",
      "Mon Nov 27 07:56:40 +0000 2017\n",
      "Mon Nov 27 07:50:01 +0000 2017\n",
      "Mon Nov 27 07:45:03 +0000 2017\n",
      "Mon Nov 27 07:40:03 +0000 2017\n",
      "Mon Nov 27 07:35:01 +0000 2017\n",
      "Mon Nov 27 07:20:04 +0000 2017\n",
      "Mon Nov 27 07:00:02 +0000 2017\n",
      "Mon Nov 27 06:30:02 +0000 2017\n",
      "Mon Nov 27 05:50:04 +0000 2017\n",
      "Mon Nov 27 05:50:01 +0000 2017\n",
      "Mon Nov 27 05:32:44 +0000 2017\n",
      "Mon Nov 27 05:28:06 +0000 2017\n",
      "Mon Nov 27 05:24:03 +0000 2017\n",
      "Mon Nov 27 05:20:05 +0000 2017\n",
      "Mon Nov 27 05:10:27 +0000 2017\n",
      "Mon Nov 27 04:56:02 +0000 2017\n",
      "Mon Nov 27 04:54:01 +0000 2017\n",
      "Mon Nov 27 08:24:01 +0000 2017\n",
      "Mon Nov 27 08:20:05 +0000 2017\n",
      "Mon Nov 27 08:04:03 +0000 2017\n",
      "Mon Nov 27 07:56:40 +0000 2017\n",
      "Mon Nov 27 07:50:01 +0000 2017\n",
      "Mon Nov 27 07:45:03 +0000 2017\n",
      "Mon Nov 27 07:40:03 +0000 2017\n",
      "Mon Nov 27 07:35:01 +0000 2017\n",
      "Mon Nov 27 07:20:04 +0000 2017\n",
      "Mon Nov 27 07:00:02 +0000 2017\n",
      "Mon Nov 27 06:30:02 +0000 2017\n",
      "Mon Nov 27 05:50:04 +0000 2017\n",
      "Mon Nov 27 05:50:01 +0000 2017\n",
      "Mon Nov 27 05:32:44 +0000 2017\n",
      "Mon Nov 27 05:28:06 +0000 2017\n",
      "Mon Nov 27 05:24:03 +0000 2017\n",
      "Mon Nov 27 05:20:05 +0000 2017\n",
      "Mon Nov 27 05:10:27 +0000 2017\n",
      "Mon Nov 27 04:56:02 +0000 2017\n",
      "Mon Nov 27 04:54:01 +0000 2017\n",
      "Mon Nov 27 08:22:10 +0000 2017\n",
      "Mon Nov 27 08:18:09 +0000 2017\n",
      "Mon Nov 27 08:03:04 +0000 2017\n",
      "Mon Nov 27 07:48:06 +0000 2017\n",
      "Mon Nov 27 07:33:06 +0000 2017\n",
      "Mon Nov 27 07:18:06 +0000 2017\n",
      "Mon Nov 27 07:03:07 +0000 2017\n",
      "Mon Nov 27 06:48:06 +0000 2017\n",
      "Mon Nov 27 06:33:06 +0000 2017\n",
      "Mon Nov 27 06:18:07 +0000 2017\n",
      "Mon Nov 27 06:03:06 +0000 2017\n",
      "Mon Nov 27 05:48:05 +0000 2017\n",
      "Mon Nov 27 05:33:05 +0000 2017\n",
      "Mon Nov 27 05:18:08 +0000 2017\n",
      "Mon Nov 27 05:03:04 +0000 2017\n",
      "Mon Nov 27 04:48:05 +0000 2017\n",
      "Mon Nov 27 04:40:05 +0000 2017\n",
      "Mon Nov 27 04:33:04 +0000 2017\n",
      "Mon Nov 27 04:18:08 +0000 2017\n",
      "Mon Nov 27 04:03:05 +0000 2017\n",
      "Mon Nov 27 08:22:10 +0000 2017\n",
      "Mon Nov 27 08:18:09 +0000 2017\n",
      "Mon Nov 27 08:03:04 +0000 2017\n",
      "Mon Nov 27 07:48:06 +0000 2017\n",
      "Mon Nov 27 07:33:06 +0000 2017\n",
      "Mon Nov 27 07:18:06 +0000 2017\n",
      "Mon Nov 27 07:03:07 +0000 2017\n",
      "Mon Nov 27 06:48:06 +0000 2017\n",
      "Mon Nov 27 06:33:06 +0000 2017\n",
      "Mon Nov 27 06:18:07 +0000 2017\n",
      "Mon Nov 27 06:03:06 +0000 2017\n",
      "Mon Nov 27 05:48:05 +0000 2017\n",
      "Mon Nov 27 05:33:05 +0000 2017\n",
      "Mon Nov 27 05:18:08 +0000 2017\n",
      "Mon Nov 27 05:03:04 +0000 2017\n",
      "Mon Nov 27 04:48:05 +0000 2017\n",
      "Mon Nov 27 04:40:05 +0000 2017\n",
      "Mon Nov 27 04:33:04 +0000 2017\n",
      "Mon Nov 27 04:18:08 +0000 2017\n",
      "Mon Nov 27 04:03:05 +0000 2017\n",
      "Mon Nov 27 07:18:00 +0000 2017\n",
      "Sun Nov 26 21:36:48 +0000 2017\n",
      "Sun Nov 26 01:17:16 +0000 2017\n",
      "Sun Nov 26 01:07:01 +0000 2017\n",
      "Sun Nov 26 00:10:16 +0000 2017\n",
      "Sat Nov 25 22:46:07 +0000 2017\n",
      "Sat Nov 25 21:02:26 +0000 2017\n",
      "Sat Nov 25 08:18:01 +0000 2017\n",
      "Sat Nov 25 04:47:52 +0000 2017\n",
      "Fri Nov 24 23:00:50 +0000 2017\n",
      "Fri Nov 24 20:22:30 +0000 2017\n",
      "Fri Nov 24 19:13:18 +0000 2017\n",
      "Fri Nov 24 16:14:16 +0000 2017\n",
      "Fri Nov 24 07:42:34 +0000 2017\n",
      "Fri Nov 24 03:22:06 +0000 2017\n",
      "Fri Nov 24 01:23:12 +0000 2017\n",
      "Fri Nov 24 01:06:59 +0000 2017\n",
      "Thu Nov 23 16:10:55 +0000 2017\n",
      "Thu Nov 23 14:35:37 +0000 2017\n",
      "Thu Nov 23 12:21:38 +0000 2017\n",
      "Mon Nov 27 07:18:00 +0000 2017\n",
      "Sun Nov 26 21:36:48 +0000 2017\n",
      "Sun Nov 26 01:17:16 +0000 2017\n",
      "Sun Nov 26 01:07:01 +0000 2017\n",
      "Sun Nov 26 00:10:16 +0000 2017\n",
      "Sat Nov 25 22:46:07 +0000 2017\n",
      "Sat Nov 25 21:02:26 +0000 2017\n",
      "Sat Nov 25 08:18:01 +0000 2017\n",
      "Sat Nov 25 04:47:52 +0000 2017\n",
      "Fri Nov 24 23:00:50 +0000 2017\n",
      "Fri Nov 24 20:22:30 +0000 2017\n",
      "Fri Nov 24 19:13:18 +0000 2017\n",
      "Fri Nov 24 16:14:16 +0000 2017\n",
      "Fri Nov 24 07:42:34 +0000 2017\n",
      "Fri Nov 24 03:22:06 +0000 2017\n",
      "Fri Nov 24 01:23:12 +0000 2017\n",
      "Fri Nov 24 01:06:59 +0000 2017\n",
      "Thu Nov 23 16:10:55 +0000 2017\n",
      "Thu Nov 23 14:35:37 +0000 2017\n",
      "Thu Nov 23 12:21:38 +0000 2017\n"
     ]
    }
   ],
   "source": [
    "#TRY THIS\n",
    "for value in news_scores:\n",
    "    for key, item in value.items():\n",
    "        test = item['time']\n",
    "        print(test)"
   ]
  },
  {
   "cell_type": "code",
   "execution_count": 96,
   "metadata": {},
   "outputs": [
    {
     "ename": "TypeError",
     "evalue": "string indices must be integers",
     "output_type": "error",
     "traceback": [
      "\u001b[1;31m---------------------------------------------------------------------------\u001b[0m",
      "\u001b[1;31mTypeError\u001b[0m                                 Traceback (most recent call last)",
      "\u001b[1;32m<ipython-input-96-814bc0b0da17>\u001b[0m in \u001b[0;36m<module>\u001b[1;34m()\u001b[0m\n\u001b[0;32m      5\u001b[0m         \u001b[1;32mfor\u001b[0m \u001b[0mvalue\u001b[0m \u001b[1;32min\u001b[0m \u001b[0mitems\u001b[0m\u001b[1;33m:\u001b[0m\u001b[1;33m\u001b[0m\u001b[0m\n\u001b[0;32m      6\u001b[0m             \u001b[1;31m#score_list.append(item['score'])\u001b[0m\u001b[1;33m\u001b[0m\u001b[1;33m\u001b[0m\u001b[0m\n\u001b[1;32m----> 7\u001b[1;33m             \u001b[0mprint\u001b[0m\u001b[1;33m(\u001b[0m\u001b[0mvalue\u001b[0m\u001b[1;33m[\u001b[0m\u001b[1;34m'time'\u001b[0m\u001b[1;33m]\u001b[0m\u001b[1;33m)\u001b[0m\u001b[1;33m\u001b[0m\u001b[0m\n\u001b[0m\u001b[0;32m      8\u001b[0m         \u001b[1;31m#print(items)\u001b[0m\u001b[1;33m\u001b[0m\u001b[1;33m\u001b[0m\u001b[0m\n\u001b[0;32m      9\u001b[0m         \u001b[1;31m#print(score_list)\u001b[0m\u001b[1;33m\u001b[0m\u001b[1;33m\u001b[0m\u001b[0m\n",
      "\u001b[1;31mTypeError\u001b[0m: string indices must be integers"
     ]
    }
   ],
   "source": [
    "for key, value in news_scores.items():\n",
    "    #print(value)\n",
    "    for items in value:\n",
    "        score_list = []\n",
    "        for value in items:\n",
    "            #score_list.append(item['score'])\n",
    "            print(value)\n",
    "        #print(items)\n",
    "        #print(score_list)\n",
    "#score_list\n",
    "\n",
    "#news_scores['@CNN'][0]['score']\n",
    "\n"
   ]
  },
  {
   "cell_type": "code",
   "execution_count": 69,
   "metadata": {},
   "outputs": [
    {
     "data": {
      "text/plain": [
       "dict_items([('time', 'Mon Nov 27 07:08:04 +0000 2017'), ('score', -0.4588)])"
      ]
     },
     "execution_count": 69,
     "metadata": {},
     "output_type": "execute_result"
    }
   ],
   "source": [
    "news_scores['@nytimes'][0].items()"
   ]
  },
  {
   "cell_type": "code",
   "execution_count": 79,
   "metadata": {},
   "outputs": [
    {
     "data": {
      "text/plain": [
       "3"
      ]
     },
     "execution_count": 79,
     "metadata": {},
     "output_type": "execute_result"
    }
   ],
   "source": [
    "len(news_scores)"
   ]
  },
  {
   "cell_type": "code",
   "execution_count": 82,
   "metadata": {},
   "outputs": [
    {
     "data": {
      "text/plain": [
       "[{'score': 0.2263, 'time': 'Mon Nov 27 07:17:20 +0000 2017'},\n",
       " {'score': 0.0, 'time': 'Mon Nov 27 07:10:07 +0000 2017'},\n",
       " {'score': 0.0, 'time': 'Mon Nov 27 07:00:12 +0000 2017'},\n",
       " {'score': 0.0, 'time': 'Mon Nov 27 06:52:43 +0000 2017'},\n",
       " {'score': 0.128, 'time': 'Mon Nov 27 06:45:11 +0000 2017'},\n",
       " {'score': 0.0, 'time': 'Mon Nov 27 06:37:26 +0000 2017'},\n",
       " {'score': 0.0, 'time': 'Mon Nov 27 06:30:12 +0000 2017'},\n",
       " {'score': 0.0, 'time': 'Mon Nov 27 06:18:57 +0000 2017'},\n",
       " {'score': -0.4939, 'time': 'Mon Nov 27 06:08:53 +0000 2017'},\n",
       " {'score': -0.34, 'time': 'Mon Nov 27 06:00:15 +0000 2017'},\n",
       " {'score': -0.9153, 'time': 'Mon Nov 27 06:00:03 +0000 2017'},\n",
       " {'score': 0.0, 'time': 'Mon Nov 27 05:47:51 +0000 2017'},\n",
       " {'score': -0.25, 'time': 'Mon Nov 27 05:40:33 +0000 2017'},\n",
       " {'score': -0.6369, 'time': 'Mon Nov 27 05:31:14 +0000 2017'},\n",
       " {'score': 0.0, 'time': 'Mon Nov 27 05:10:05 +0000 2017'},\n",
       " {'score': 0.1134, 'time': 'Mon Nov 27 05:00:25 +0000 2017'},\n",
       " {'score': -0.2732, 'time': 'Mon Nov 27 04:46:41 +0000 2017'},\n",
       " {'score': -0.4588, 'time': 'Mon Nov 27 04:39:01 +0000 2017'},\n",
       " {'score': 0.0, 'time': 'Mon Nov 27 04:30:17 +0000 2017'},\n",
       " {'score': -0.6486, 'time': 'Mon Nov 27 04:26:07 +0000 2017'},\n",
       " {'score': 0.2263, 'time': 'Mon Nov 27 07:17:20 +0000 2017'},\n",
       " {'score': 0.0, 'time': 'Mon Nov 27 07:10:07 +0000 2017'},\n",
       " {'score': 0.0, 'time': 'Mon Nov 27 07:00:12 +0000 2017'},\n",
       " {'score': 0.0, 'time': 'Mon Nov 27 06:52:43 +0000 2017'},\n",
       " {'score': 0.128, 'time': 'Mon Nov 27 06:45:11 +0000 2017'},\n",
       " {'score': 0.0, 'time': 'Mon Nov 27 06:37:26 +0000 2017'},\n",
       " {'score': 0.0, 'time': 'Mon Nov 27 06:30:12 +0000 2017'},\n",
       " {'score': 0.0, 'time': 'Mon Nov 27 06:18:57 +0000 2017'},\n",
       " {'score': -0.4939, 'time': 'Mon Nov 27 06:08:53 +0000 2017'},\n",
       " {'score': -0.34, 'time': 'Mon Nov 27 06:00:15 +0000 2017'},\n",
       " {'score': -0.9153, 'time': 'Mon Nov 27 06:00:03 +0000 2017'},\n",
       " {'score': 0.0, 'time': 'Mon Nov 27 05:47:51 +0000 2017'},\n",
       " {'score': -0.25, 'time': 'Mon Nov 27 05:40:33 +0000 2017'},\n",
       " {'score': -0.6369, 'time': 'Mon Nov 27 05:31:14 +0000 2017'},\n",
       " {'score': 0.0, 'time': 'Mon Nov 27 05:10:05 +0000 2017'},\n",
       " {'score': 0.1134, 'time': 'Mon Nov 27 05:00:25 +0000 2017'},\n",
       " {'score': -0.2732, 'time': 'Mon Nov 27 04:46:41 +0000 2017'},\n",
       " {'score': -0.4588, 'time': 'Mon Nov 27 04:39:01 +0000 2017'},\n",
       " {'score': 0.0, 'time': 'Mon Nov 27 04:30:17 +0000 2017'},\n",
       " {'score': -0.6486, 'time': 'Mon Nov 27 04:26:07 +0000 2017'}]"
      ]
     },
     "execution_count": 82,
     "metadata": {},
     "output_type": "execute_result"
    }
   ],
   "source": [
    "news_scores['@CNN']"
   ]
  },
  {
   "cell_type": "code",
   "execution_count": null,
   "metadata": {
    "collapsed": true
   },
   "outputs": [],
   "source": []
  }
 ],
 "metadata": {
  "kernelspec": {
   "display_name": "Python 3",
   "language": "python",
   "name": "python3"
  },
  "language_info": {
   "codemirror_mode": {
    "name": "ipython",
    "version": 3
   },
   "file_extension": ".py",
   "mimetype": "text/x-python",
   "name": "python",
   "nbconvert_exporter": "python",
   "pygments_lexer": "ipython3",
   "version": "3.6.2"
  }
 },
 "nbformat": 4,
 "nbformat_minor": 2
}
